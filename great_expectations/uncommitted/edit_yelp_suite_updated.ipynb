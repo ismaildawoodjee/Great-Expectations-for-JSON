{
 "cells": [
  {
   "cell_type": "markdown",
   "id": "fce58378",
   "metadata": {},
   "source": [
    "# Edit Your Expectation Suite\n",
    "Use this notebook to recreate and modify your expectation suite:\n",
    "\n",
    "**Expectation Suite Name**: `yelp_suite_updated`\n"
   ]
  },
  {
   "cell_type": "code",
   "execution_count": null,
   "id": "d0eb1dc5",
   "metadata": {},
   "outputs": [],
   "source": [
    "import datetime\n",
    "\n",
    "import pandas as pd\n",
    "\n",
    "import great_expectations as ge\n",
    "import great_expectations.jupyter_ux\n",
    "from great_expectations.core.batch import BatchRequest\n",
    "from great_expectations.checkpoint import SimpleCheckpoint\n",
    "from great_expectations.exceptions import DataContextError\n",
    "\n",
    "context = ge.data_context.DataContext()\n",
    "\n",
    "# Note that if you modify this batch request, you may save the new version as a .json file\n",
    "#  to pass in later via the --batch-request option\n",
    "batch_request = {\n",
    "    \"datasource_name\": \"yelp_businesses\",\n",
    "    \"data_connector_name\": \"default_inferred_data_connector_name\",\n",
    "    \"data_asset_name\": \"yelp_profiling.json\",\n",
    "    \"limit\": 1000,\n",
    "}\n",
    "\n",
    "\n",
    "# Feel free to change the name of your suite here. Renaming this will not remove the other one.\n",
    "expectation_suite_name = \"yelp_suite_updated\"\n",
    "try:\n",
    "    suite = context.get_expectation_suite(expectation_suite_name=expectation_suite_name)\n",
    "    print(\n",
    "        f'Loaded ExpectationSuite \"{suite.expectation_suite_name}\" containing {len(suite.expectations)} expectations.'\n",
    "    )\n",
    "except DataContextError:\n",
    "    suite = context.create_expectation_suite(\n",
    "        expectation_suite_name=expectation_suite_name\n",
    "    )\n",
    "    print(f'Created ExpectationSuite \"{suite.expectation_suite_name}\".')\n",
    "\n",
    "\n",
    "validator = context.get_validator(\n",
    "    batch_request=BatchRequest(**batch_request),\n",
    "    expectation_suite_name=expectation_suite_name,\n",
    ")\n",
    "column_names = [f'\"{column_name}\"' for column_name in validator.columns()]\n",
    "print(f\"Columns: {', '.join(column_names)}.\")\n",
    "validator.head(n_rows=5, fetch_all=False)"
   ]
  },
  {
   "cell_type": "markdown",
   "id": "b82faefe",
   "metadata": {},
   "source": [
    "## Create & Edit Expectations\n",
    "\n",
    "\n",
    "Add expectations by calling specific expectation methods on the `validator` object. They all begin with `.expect_` which makes autocompleting easy using tab.\n",
    "\n",
    "Because you selected interactive mode, you are now creating or editing an Expectation Suite with validator feedback from the sample batch of data that you specified (see `batch_request`).\n",
    "\n",
    "Note that if you select manual mode you may still create or edit an Expectation Suite directly, without feedback from the `validator`. See our documentation for more info and examples: [How to create a new Expectation Suite without a sample batch](https://docs.greatexpectations.io/en/latest/guides/how_to_guides/creating_and_editing_expectations/how_to_create_a_new_expectation_suite_without_a_sample_batch.html).\n",
    "\n",
    "\n",
    "\n",
    "You can see all the available expectations in the **[expectation glossary](https://docs.greatexpectations.io/en/latest/reference/glossary_of_expectations.html?utm_source=notebook&utm_medium=create_expectations)**."
   ]
  },
  {
   "cell_type": "markdown",
   "id": "d2068caf",
   "metadata": {},
   "source": [
    "### Table Expectation(s)"
   ]
  },
  {
   "cell_type": "code",
   "execution_count": null,
   "id": "f6d008ac",
   "metadata": {},
   "outputs": [],
   "source": [
    "validator.expect_table_columns_to_match_ordered_list(\n",
    "    column_list=[\n",
    "        \"business_id\",\n",
    "        \"name\",\n",
    "        \"address\",\n",
    "        \"city\",\n",
    "        \"state\",\n",
    "        \"postal_code\",\n",
    "        \"latitude\",\n",
    "        \"longitude\",\n",
    "        \"stars\",\n",
    "        \"review_count\",\n",
    "        \"is_open\",\n",
    "        \"attributes_RestaurantsTableService\",\n",
    "        \"attributes_WiFi\",\n",
    "        \"attributes_BikeParking\",\n",
    "        \"attributes_BusinessAcceptsCreditCards\",\n",
    "        \"attributes_RestaurantsReservations\",\n",
    "        \"attributes_WheelchairAccessible\",\n",
    "        \"attributes_Caters\",\n",
    "        \"attributes_OutdoorSeating\",\n",
    "        \"attributes_RestaurantsGoodForGroups\",\n",
    "        \"attributes_HappyHour\",\n",
    "        \"attributes_BusinessAcceptsBitcoin\",\n",
    "        \"attributes_RestaurantsPriceRange2\",\n",
    "        \"attributes_HasTV\",\n",
    "        \"attributes_Alcohol\",\n",
    "        \"attributes_DogsAllowed\",\n",
    "        \"attributes_RestaurantsTakeOut\",\n",
    "        \"attributes_NoiseLevel\",\n",
    "        \"attributes_RestaurantsAttire\",\n",
    "        \"attributes_RestaurantsDelivery\",\n",
    "        \"categories\",\n",
    "        \"hours_Monday\",\n",
    "        \"hours_Tuesday\",\n",
    "        \"hours_Wednesday\",\n",
    "        \"hours_Thursday\",\n",
    "        \"hours_Friday\",\n",
    "        \"hours_Saturday\",\n",
    "        \"hours_Sunday\",\n",
    "        \"attributes_GoodForKids\",\n",
    "        \"attributes_ByAppointmentOnly\",\n",
    "        \"attributes_AcceptsInsurance\",\n",
    "        \"attributes_HairSpecializesIn\",\n",
    "        \"attributes_GoodForDancing\",\n",
    "        \"attributes_BestNights\",\n",
    "        \"attributes_Music\",\n",
    "        \"attributes_BYOB\",\n",
    "        \"attributes_CoatCheck\",\n",
    "        \"attributes_Smoking\",\n",
    "        \"attributes_DriveThru\",\n",
    "        \"attributes_BYOBCorkage\",\n",
    "        \"attributes_Corkage\",\n",
    "        \"attributes_RestaurantsCounterService\",\n",
    "        \"attributes_AgesAllowed\",\n",
    "        \"attributes_DietaryRestrictions\",\n",
    "        \"attributes_Open24Hours\",\n",
    "    ]\n",
    ")"
   ]
  },
  {
   "cell_type": "markdown",
   "id": "ce6b4158",
   "metadata": {},
   "source": [
    "### Column Expectation(s)"
   ]
  },
  {
   "cell_type": "markdown",
   "id": "3f59a9a6",
   "metadata": {},
   "source": [
    "#### `state`"
   ]
  },
  {
   "cell_type": "code",
   "execution_count": null,
   "id": "b2fdf17d",
   "metadata": {},
   "outputs": [],
   "source": [
    "validator.expect_column_values_to_match_regex(column=\"state\", regex=\"[A-Z][A-Z]\")"
   ]
  },
  {
   "cell_type": "code",
   "execution_count": null,
   "id": "b673f996",
   "metadata": {},
   "outputs": [],
   "source": [
    "validator.expect_column_values_to_not_be_null(column=\"state\", mostly=0.99)"
   ]
  },
  {
   "cell_type": "code",
   "execution_count": null,
   "id": "a97adbc7",
   "metadata": {},
   "outputs": [],
   "source": [
    "validator.expect_column_values_to_be_in_type_list(\n",
    "    column=\"state\",\n",
    "    type_list=[\n",
    "        \"CHAR\",\n",
    "        \"NCHAR\",\n",
    "        \"VARCHAR\",\n",
    "        \"NVARCHAR\",\n",
    "        \"TEXT\",\n",
    "        \"NTEXT\",\n",
    "        \"STRING\",\n",
    "        \"StringType\",\n",
    "        \"string\",\n",
    "        \"str\",\n",
    "        \"object\",\n",
    "        \"dtype('O')\",\n",
    "    ],\n",
    ")"
   ]
  },
  {
   "cell_type": "markdown",
   "id": "bfd27f99",
   "metadata": {},
   "source": [
    "#### `postal_code`"
   ]
  },
  {
   "cell_type": "code",
   "execution_count": null,
   "id": "b5ff54e5",
   "metadata": {},
   "outputs": [],
   "source": [
    "validator.expect_column_values_to_not_be_null(column=\"postal_code\")"
   ]
  },
  {
   "cell_type": "code",
   "execution_count": null,
   "id": "6fa6fdf4",
   "metadata": {},
   "outputs": [],
   "source": [
    "validator.expect_column_values_to_be_in_type_list(\n",
    "    column=\"postal_code\",\n",
    "    type_list=[\n",
    "        \"CHAR\",\n",
    "        \"NCHAR\",\n",
    "        \"VARCHAR\",\n",
    "        \"NVARCHAR\",\n",
    "        \"TEXT\",\n",
    "        \"NTEXT\",\n",
    "        \"STRING\",\n",
    "        \"StringType\",\n",
    "        \"string\",\n",
    "        \"str\",\n",
    "        \"object\",\n",
    "        \"dtype('O')\",\n",
    "    ],\n",
    ")"
   ]
  },
  {
   "cell_type": "markdown",
   "id": "d12e77a5",
   "metadata": {},
   "source": [
    "#### `latitude`"
   ]
  },
  {
   "cell_type": "code",
   "execution_count": null,
   "id": "5e635d95",
   "metadata": {},
   "outputs": [],
   "source": [
    "validator.expect_column_values_to_be_between(\n",
    "    column=\"latitude\", max_value=90.0, min_value=-90.0\n",
    ")"
   ]
  },
  {
   "cell_type": "code",
   "execution_count": null,
   "id": "37f06b72",
   "metadata": {},
   "outputs": [],
   "source": [
    "validator.expect_column_values_to_not_be_null(column=\"latitude\")"
   ]
  },
  {
   "cell_type": "code",
   "execution_count": null,
   "id": "58ce53de",
   "metadata": {},
   "outputs": [],
   "source": [
    "validator.expect_column_values_to_be_in_type_list(\n",
    "    column=\"latitude\",\n",
    "    type_list=[\n",
    "        \"FLOAT\",\n",
    "        \"FLOAT4\",\n",
    "        \"FLOAT8\",\n",
    "        \"FLOAT64\",\n",
    "        \"DOUBLE\",\n",
    "        \"DOUBLE_PRECISION\",\n",
    "        \"NUMERIC\",\n",
    "        \"FloatType\",\n",
    "        \"DoubleType\",\n",
    "        \"float_\",\n",
    "        \"float16\",\n",
    "        \"float32\",\n",
    "        \"float64\",\n",
    "        \"number\",\n",
    "        \"DECIMAL\",\n",
    "        \"REAL\",\n",
    "    ],\n",
    ")"
   ]
  },
  {
   "cell_type": "markdown",
   "id": "1cfa921f",
   "metadata": {},
   "source": [
    "#### `longitude`"
   ]
  },
  {
   "cell_type": "code",
   "execution_count": null,
   "id": "8f8b6483",
   "metadata": {},
   "outputs": [],
   "source": [
    "validator.expect_column_values_to_be_between(\n",
    "    column=\"longitude\", max_value=180.0, min_value=-180.0\n",
    ")"
   ]
  },
  {
   "cell_type": "code",
   "execution_count": null,
   "id": "4fd253a8",
   "metadata": {},
   "outputs": [],
   "source": [
    "validator.expect_column_values_to_not_be_null(column=\"longitude\")"
   ]
  },
  {
   "cell_type": "code",
   "execution_count": null,
   "id": "39dec29c",
   "metadata": {},
   "outputs": [],
   "source": [
    "validator.expect_column_values_to_be_in_type_list(\n",
    "    column=\"longitude\",\n",
    "    type_list=[\n",
    "        \"FLOAT\",\n",
    "        \"FLOAT4\",\n",
    "        \"FLOAT8\",\n",
    "        \"FLOAT64\",\n",
    "        \"DOUBLE\",\n",
    "        \"DOUBLE_PRECISION\",\n",
    "        \"NUMERIC\",\n",
    "        \"FloatType\",\n",
    "        \"DoubleType\",\n",
    "        \"float_\",\n",
    "        \"float16\",\n",
    "        \"float32\",\n",
    "        \"float64\",\n",
    "        \"number\",\n",
    "        \"DECIMAL\",\n",
    "        \"REAL\",\n",
    "    ],\n",
    ")"
   ]
  },
  {
   "cell_type": "markdown",
   "id": "2837f035",
   "metadata": {},
   "source": [
    "#### `stars`"
   ]
  },
  {
   "cell_type": "code",
   "execution_count": null,
   "id": "a16c0908",
   "metadata": {},
   "outputs": [],
   "source": [
    "validator.expect_column_min_to_be_between(column=\"stars\", max_value=1.0, min_value=1.0)"
   ]
  },
  {
   "cell_type": "code",
   "execution_count": null,
   "id": "15838c00",
   "metadata": {},
   "outputs": [],
   "source": [
    "validator.expect_column_max_to_be_between(column=\"stars\", max_value=5.0, min_value=5.0)"
   ]
  },
  {
   "cell_type": "code",
   "execution_count": null,
   "id": "f08e5f13",
   "metadata": {},
   "outputs": [],
   "source": [
    "validator.expect_column_values_to_be_in_set(\n",
    "    column=\"stars\", value_set=[1.0, 1.5, 2.0, 2.5, 3.0, 3.5, 4.0, 4.5, 5.0]\n",
    ")"
   ]
  },
  {
   "cell_type": "code",
   "execution_count": null,
   "id": "e45ce788",
   "metadata": {},
   "outputs": [],
   "source": [
    "validator.expect_column_values_to_not_be_null(column=\"stars\")"
   ]
  },
  {
   "cell_type": "code",
   "execution_count": null,
   "id": "76b08642",
   "metadata": {},
   "outputs": [],
   "source": [
    "validator.expect_column_values_to_be_in_type_list(\n",
    "    column=\"stars\",\n",
    "    type_list=[\n",
    "        \"FLOAT\",\n",
    "        \"FLOAT4\",\n",
    "        \"FLOAT8\",\n",
    "        \"FLOAT64\",\n",
    "        \"DOUBLE\",\n",
    "        \"DOUBLE_PRECISION\",\n",
    "        \"NUMERIC\",\n",
    "        \"FloatType\",\n",
    "        \"DoubleType\",\n",
    "        \"float_\",\n",
    "        \"float16\",\n",
    "        \"float32\",\n",
    "        \"float64\",\n",
    "        \"number\",\n",
    "        \"DECIMAL\",\n",
    "        \"REAL\",\n",
    "    ],\n",
    ")"
   ]
  },
  {
   "cell_type": "markdown",
   "id": "9391ad62",
   "metadata": {},
   "source": [
    "#### `is_open`"
   ]
  },
  {
   "cell_type": "code",
   "execution_count": null,
   "id": "2846e5d6",
   "metadata": {},
   "outputs": [],
   "source": [
    "validator.expect_column_min_to_be_between(column=\"is_open\", max_value=0, min_value=0)"
   ]
  },
  {
   "cell_type": "code",
   "execution_count": null,
   "id": "6301538d",
   "metadata": {},
   "outputs": [],
   "source": [
    "validator.expect_column_max_to_be_between(column=\"is_open\", max_value=1, min_value=1)"
   ]
  },
  {
   "cell_type": "code",
   "execution_count": null,
   "id": "34d833cb",
   "metadata": {},
   "outputs": [],
   "source": [
    "validator.expect_column_values_to_be_in_set(column=\"is_open\", value_set=[0, 1])"
   ]
  },
  {
   "cell_type": "code",
   "execution_count": null,
   "id": "e8b1e4f6",
   "metadata": {},
   "outputs": [],
   "source": [
    "validator.expect_column_values_to_not_be_null(column=\"is_open\")"
   ]
  },
  {
   "cell_type": "code",
   "execution_count": null,
   "id": "bc8d31d2",
   "metadata": {},
   "outputs": [],
   "source": [
    "validator.expect_column_values_to_be_in_type_list(\n",
    "    column=\"is_open\",\n",
    "    type_list=[\n",
    "        \"INTEGER\",\n",
    "        \"integer\",\n",
    "        \"int\",\n",
    "        \"int_\",\n",
    "        \"int8\",\n",
    "        \"int16\",\n",
    "        \"int32\",\n",
    "        \"int64\",\n",
    "        \"uint8\",\n",
    "        \"uint16\",\n",
    "        \"uint32\",\n",
    "        \"uint64\",\n",
    "        \"INT\",\n",
    "        \"INTEGER\",\n",
    "        \"INT64\",\n",
    "        \"TINYINT\",\n",
    "        \"BYTEINT\",\n",
    "        \"SMALLINT\",\n",
    "        \"BIGINT\",\n",
    "        \"IntegerType\",\n",
    "        \"LongType\",\n",
    "    ],\n",
    ")"
   ]
  },
  {
   "cell_type": "markdown",
   "id": "7caf7160",
   "metadata": {},
   "source": [
    "## Save & Review Your Expectations\n",
    "\n",
    "Let's save the expectation suite as a JSON file in the `great_expectations/expectations` directory of your project.\n",
    "\n",
    "Let's now rebuild your Data Docs, which helps you communicate about your data with both machines and humans."
   ]
  },
  {
   "cell_type": "code",
   "execution_count": null,
   "id": "bf18d8bf",
   "metadata": {},
   "outputs": [],
   "source": [
    "print(validator.get_expectation_suite(discard_failed_expectations=False))\n",
    "validator.save_expectation_suite(discard_failed_expectations=False)\n",
    "\n",
    "checkpoint_config = {\n",
    "    \"class_name\": \"SimpleCheckpoint\",\n",
    "    \"validations\": [\n",
    "        {\n",
    "            \"batch_request\": batch_request,\n",
    "            \"expectation_suite_name\": expectation_suite_name\n",
    "        }\n",
    "    ]\n",
    "}\n",
    "checkpoint = SimpleCheckpoint(\n",
    "    f\"_tmp_checkpoint_{expectation_suite_name}\",\n",
    "    context,\n",
    "    **checkpoint_config\n",
    ")\n",
    "checkpoint_result = checkpoint.run()\n",
    "\n",
    "context.build_data_docs()\n",
    "\n",
    "validation_result_identifier = checkpoint_result.list_validation_result_identifiers()[0]\n",
    "context.open_data_docs(resource_identifier=validation_result_identifier)"
   ]
  }
 ],
 "metadata": {
  "kernelspec": {
   "display_name": "Python 3 (ipykernel)",
   "language": "python",
   "name": "python3"
  },
  "language_info": {
   "codemirror_mode": {
    "name": "ipython",
    "version": 3
   },
   "file_extension": ".py",
   "mimetype": "text/x-python",
   "name": "python",
   "nbconvert_exporter": "python",
   "pygments_lexer": "ipython3",
   "version": "3.9.5"
  }
 },
 "nbformat": 4,
 "nbformat_minor": 5
}
